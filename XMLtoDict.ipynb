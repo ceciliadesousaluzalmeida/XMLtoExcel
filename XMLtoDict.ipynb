{
  "nbformat": 4,
  "nbformat_minor": 0,
  "metadata": {
    "colab": {
      "provenance": [],
      "mount_file_id": "1MvJ-ZPBxPsUpj0Ygj6wyzBFasOtRuBnv",
      "authorship_tag": "ABX9TyNcD7x2r8oAoZtipXE+OnNm",
      "include_colab_link": true
    },
    "kernelspec": {
      "name": "python3",
      "display_name": "Python 3"
    },
    "language_info": {
      "name": "python"
    }
  },
  "cells": [
    {
      "cell_type": "markdown",
      "metadata": {
        "id": "view-in-github",
        "colab_type": "text"
      },
      "source": [
        "<a href=\"https://colab.research.google.com/github/ceciliadesousaluzalmeida/XMLtoExcel/blob/main/XMLtoDict.ipynb\" target=\"_parent\"><img src=\"https://colab.research.google.com/assets/colab-badge.svg\" alt=\"Open In Colab\"/></a>"
      ]
    },
    {
      "cell_type": "code",
      "execution_count": 1,
      "metadata": {
        "colab": {
          "base_uri": "https://localhost:8080/"
        },
        "id": "TqX0xFl7P7pB",
        "outputId": "6c908d3d-a389-4130-864e-64dc8bbfe754"
      },
      "outputs": [
        {
          "output_type": "stream",
          "name": "stdout",
          "text": [
            "Collecting xmltodict\n",
            "  Downloading xmltodict-0.13.0-py2.py3-none-any.whl (10.0 kB)\n",
            "Installing collected packages: xmltodict\n",
            "Successfully installed xmltodict-0.13.0\n"
          ]
        }
      ],
      "source": [
        "pip install xmltodict\n"
      ]
    },
    {
      "cell_type": "code",
      "source": [
        "pip install pandas numpy openpyxl"
      ],
      "metadata": {
        "colab": {
          "base_uri": "https://localhost:8080/"
        },
        "id": "rOo6hDeVqiML",
        "outputId": "d5a941d8-18ea-4058-868a-8b357d3f175d"
      },
      "execution_count": 23,
      "outputs": [
        {
          "output_type": "stream",
          "name": "stdout",
          "text": [
            "Requirement already satisfied: pandas in /usr/local/lib/python3.10/dist-packages (1.5.3)\n",
            "Requirement already satisfied: numpy in /usr/local/lib/python3.10/dist-packages (1.23.5)\n",
            "Requirement already satisfied: openpyxl in /usr/local/lib/python3.10/dist-packages (3.0.10)\n",
            "Requirement already satisfied: python-dateutil>=2.8.1 in /usr/local/lib/python3.10/dist-packages (from pandas) (2.8.2)\n",
            "Requirement already satisfied: pytz>=2020.1 in /usr/local/lib/python3.10/dist-packages (from pandas) (2022.7.1)\n",
            "Requirement already satisfied: et-xmlfile in /usr/local/lib/python3.10/dist-packages (from openpyxl) (1.1.0)\n",
            "Requirement already satisfied: six>=1.5 in /usr/local/lib/python3.10/dist-packages (from python-dateutil>=2.8.1->pandas) (1.16.0)\n"
          ]
        }
      ]
    },
    {
      "cell_type": "code",
      "source": [
        "import xmltodict\n",
        "import os\n",
        "import json"
      ],
      "metadata": {
        "id": "CSB_eCDbQOdS"
      },
      "execution_count": 10,
      "outputs": []
    },
    {
      "cell_type": "code",
      "source": [
        "def read_infos(archive_name):\n",
        "  print(f\"Reading infos from: {archive_name}\")\n",
        "  with open(f'/content/drive/MyDrive/nfs-20230809T121445Z-001/nfs/{archive_name}', \"rb\") as xml_archive:\n",
        "    dic_archive = xmltodict.parse(xml_archive)\n",
        "    #print(json.dumps(dic_archive, indent = 4))\n",
        "\n",
        "    if \"NFe\" in dic_archive:\n",
        "              infos_nf = dic_archive[\"NFe\"]['infNFe']\n",
        "    else:\n",
        "        infos_nf = dic_archive['nfeProc'][\"NFe\"]['infNFe']\n",
        "\n",
        "    infos_nf = dic_archive[\"NFe\"]['infNfe']\n",
        "    number = infos_nf[\"@Id\"]\n",
        "    emitor = infos_nf[\"emit\"]['xNome']\n",
        "    client = infos_nf[\"dest\"][\"xNome\"]\n",
        "    adress = infos_nf[\"dest\"][\"enderDest\"]\n",
        "    weight = infos_nf[\"transp\"][\"vol\"][\"pesoB\"]\n",
        "    if \"vol\" in infos_nf[\"transp\"]:\n",
        "            weight = infos_nf[\"transp\"][\"vol\"][\"pesoB\"]\n",
        "    else:\n",
        "            weight = \"Not informed\"\n",
        "    values.append([number, emitor, client, adress, weight])\n",
        "  archives_list = os.listdir(\"/content/drive/MyDrive/nfs-20230809T121445Z-001/nfs\")\n",
        "\n",
        "  for archive in archives_list:\n",
        "    read_infos(archives_list)\n",
        "\n",
        "\n",
        "  cols = [\"number\", \"emitor\", \"client\", \"adress\",\"weight\"]\n",
        "  values = []\n",
        "  for archive in archives_list:\n",
        "      pegar_infos(archive, values)\n",
        "\n",
        "  tabela = pd.DataFrame(columns=cols, data=values)\n",
        "  tabela.to_excel(\"NFs.xlsx\", index=False)"
      ],
      "metadata": {
        "id": "ReLrUpjCQm5v"
      },
      "execution_count": 25,
      "outputs": []
    },
    {
      "cell_type": "code",
      "source": [],
      "metadata": {
        "id": "b8pRjJ6zWj3d"
      },
      "execution_count": 12,
      "outputs": []
    },
    {
      "cell_type": "code",
      "source": [],
      "metadata": {
        "id": "M_Uv2JtGXqLl"
      },
      "execution_count": null,
      "outputs": []
    }
  ]
}